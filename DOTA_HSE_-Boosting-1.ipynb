{
 "cells": [
  {
   "cell_type": "code",
   "execution_count": 1,
   "metadata": {
    "collapsed": true
   },
   "outputs": [],
   "source": [
    "import numpy as np\n",
    "import pandas as pd\n",
    "import sklearn\n",
    "from sklearn.cross_validation import train_test_split\n",
    "from sklearn.metrics import roc_auc_score\n",
    "import sklearn.metrics\n",
    "import scipy as sp\n",
    "from scipy import sparse\n",
    "from sklearn.linear_model import LogisticRegression\n",
    "from sklearn.linear_model import LogisticRegressionCV"
   ]
  },
  {
   "cell_type": "markdown",
   "metadata": {},
   "source": [
    "# 1. Feature engineering"
   ]
  },
  {
   "cell_type": "code",
   "execution_count": 2,
   "metadata": {
    "collapsed": false
   },
   "outputs": [],
   "source": [
    "def data2sparse(data, num_heroes, names):\n",
    "    \n",
    "#    r_new = []\n",
    "#    for i in xrange(num_heroes):\n",
    "#        r_new += ['r'+str(i+1)+'hero','r'+str(i+1)+'level', 'r'+str(i+1)+'xp', 'r'+str(i+1)+'gold', 'r'+str(i+1)+'lh',\n",
    "#             'r'+str(i+1)+'kills','r'+str(i+1)+'deaths','r'+str(i+1)+'items', 'd'+str(i+1)+'hero', 'd'+str(i+1)+'level', \n",
    "#             'd'+str(i+1)+'xp', 'd'+str(i+1)+'gold', 'd'+str(i+1)+'lh','d'+str(i+1)+'kills','d'+str(i+1)+'deaths',\n",
    "#             'd'+str(i+1)+'items']\n",
    "    \n",
    "    \n",
    "    data=data.fillna(0)\n",
    "    r = data.index\n",
    "    for j in ['r','d']:  \n",
    "        for i in xrange(5):\n",
    "            index=j+str(i+1)+'_hero'\n",
    "            r = np.vstack([r,data[index]*16-16])\n",
    "    r = np.transpose(r[1:])    \n",
    "\n",
    "    row = []\n",
    "    col = []\n",
    "    val = []\n",
    "    for i in xrange(len(data.index)):\n",
    "#        print len(data)\n",
    "        for k in xrange(5):\n",
    "            for j in xrange(8):\n",
    "                row.insert(j+8*k+i*1000,i)\n",
    "                col.insert(j+8*k+i*1000,r[i,k]+j)\n",
    "                val.insert(j+8*k+i*1000,data[names[3+j+8*k]][data.index[i]])\n",
    "#                print i, k, j, names[3+j+8*k]\n",
    "                row.insert(j+8*(k+5)+i*1000,i)\n",
    "                col.insert(j+8*(k+5)+i*1000,r[i,(k+5)]+j)\n",
    "                val.insert(j+8*(k+5)+i*1000,-data[names[3+j+8*(k+5)]][data.index[i]])\n",
    "    \n",
    "#    return val, row, col\n",
    "    \n",
    "    nele=max(row)+1\n",
    "    nbus=max(col)+1\n",
    "    data_sparse = sparse.coo_matrix((val, (row,col)), shape=(nele, nbus), dtype=float)\n",
    "    \n",
    "    del num_heroes, val, row, col\n",
    "    return data_sparse\n",
    "    "
   ]
  },
  {
   "cell_type": "code",
   "execution_count": 3,
   "metadata": {
    "collapsed": true
   },
   "outputs": [],
   "source": [
    "def role_add(data, heroes):\n",
    "    type_vector = list(heroes.columns)[3:]\n",
    "    heroes['sum']=1.*heroes[type_vector].sum(axis=1)\n",
    "    for i in xrange(len(type_vector)):\n",
    "        heroes[type_vector[i]]=np.divide(heroes[type_vector[i]],heroes['sum'])\n",
    "    del heroes['sum']\n",
    "    new = []\n",
    "    r_old = []\n",
    "    d_old = []\n",
    "    type_vector = list(heroes.columns)[3:]\n",
    "    attr = ['_hero', '_level', '_xp', '_gold', '_lh', '_kills', '_deaths', '_items']\n",
    "    for k in type_vector:\n",
    "        for i in attr:\n",
    "            new += [k+i]\n",
    "    for k in range(0,5):\n",
    "        for i in attr:\n",
    "            r_old+=['r'+str(k+1)+i] \n",
    "    for k in range(0,5):\n",
    "        for i in attr:\n",
    "            d_old+=['d'+str(k+1)+i] \n",
    "    for i in list(new):\n",
    "        data[i]=0\n",
    "    type_vector = list(heroes.columns)[3:12]\n",
    "    for j in xrange(5):\n",
    "        R = pd.merge(data[['match_id',r_old[8*j]]],heroes,left_on=r_old[8*j],right_on='id', how='left')\n",
    "        D = pd.merge(data[['match_id',d_old[8*j]]],heroes,left_on=d_old[8*j],right_on='id', how='left')\n",
    "        R.index=data.index\n",
    "        D.index=data.index\n",
    "        for i in xrange(9):\n",
    "            for k in xrange(8):\n",
    "                x=type_vector[i]\n",
    "                if k == 0:\n",
    "                    data[new[8*i+k]]+=R[x]\n",
    "                    data[new[8*i+k]]-=D[x]\n",
    "                else:\n",
    "                    data[new[8*i+k]]+=R[x]*data[r_old[8*j+k]]\n",
    "                    data[new[8*i+k]]-=D[x]*data[d_old[8*j+k]] \n",
    "    return data"
   ]
  },
  {
   "cell_type": "markdown",
   "metadata": {},
   "source": [
    "# 2. Classification"
   ]
  },
  {
   "cell_type": "code",
   "execution_count": 126,
   "metadata": {
    "collapsed": false
   },
   "outputs": [],
   "source": [
    "features = pd.read_csv(\"features.csv\")\n",
    "features_check = pd.read_csv(\"features_test.csv\")\n",
    "name_vector = list(features_check.columns)[2:]\n",
    "features = features.fillna(0)\n",
    "features_check = features_check.fillna(0)\n",
    "data = features\n",
    "sub = features_check\n",
    "y = data['radiant_win']\n",
    "del(features)\n",
    "del(features_check)\n",
    "heroes = pd.read_csv('dictionaries/heroes2.csv', ';')\n",
    "num_heroes = len(data['r1_hero'].unique()) \n",
    "names = list(data.columns.values)"
   ]
  },
  {
   "cell_type": "code",
   "execution_count": 127,
   "metadata": {
    "collapsed": true
   },
   "outputs": [],
   "source": [
    "data = role_add(data, heroes)"
   ]
  },
  {
   "cell_type": "markdown",
   "metadata": {},
   "source": [
    "### Sparse Logistics"
   ]
  },
  {
   "cell_type": "code",
   "execution_count": 128,
   "metadata": {
    "collapsed": false
   },
   "outputs": [],
   "source": [
    "train, test, y_train, y_test = train_test_split(\n",
    "...     data, y, test_size=0.3, random_state=1)"
   ]
  },
  {
   "cell_type": "code",
   "execution_count": 129,
   "metadata": {
    "collapsed": true
   },
   "outputs": [],
   "source": [
    "del data"
   ]
  },
  {
   "cell_type": "code",
   "execution_count": 132,
   "metadata": {
    "collapsed": true
   },
   "outputs": [],
   "source": [
    "#from sklearn.preprocessing import normalize"
   ]
  },
  {
   "cell_type": "code",
   "execution_count": 133,
   "metadata": {
    "collapsed": true
   },
   "outputs": [],
   "source": [
    "#from sklearn.naive_bayes import GaussianNB\n",
    "#from sklearn.naive_bayes import MultinomialNB"
   ]
  },
  {
   "cell_type": "code",
   "execution_count": 134,
   "metadata": {
    "collapsed": true
   },
   "outputs": [],
   "source": [
    "#w = np.ones(len(train))/len(train)"
   ]
  },
  {
   "cell_type": "code",
   "execution_count": 135,
   "metadata": {
    "collapsed": false
   },
   "outputs": [],
   "source": [
    "#model1 = LogisticRegressionCV(Cs=10, penalty='l1', tol=0.001, cv=4, solver=\"liblinear\")"
   ]
  },
  {
   "cell_type": "code",
   "execution_count": 130,
   "metadata": {
    "collapsed": false
   },
   "outputs": [],
   "source": [
    "X_train1 = data2sparse(train[train.columns[:103]], num_heroes, names)"
   ]
  },
  {
   "cell_type": "code",
   "execution_count": 145,
   "metadata": {
    "collapsed": false
   },
   "outputs": [],
   "source": [
    "X_train= np.hstack([X_train1.toarray(), train[train.columns[109:]]])"
   ]
  },
  {
   "cell_type": "code",
   "execution_count": 146,
   "metadata": {
    "collapsed": false
   },
   "outputs": [],
   "source": [
    "del X_train1"
   ]
  },
  {
   "cell_type": "code",
   "execution_count": 147,
   "metadata": {
    "collapsed": true
   },
   "outputs": [],
   "source": [
    "X_train= np.hstack([X_train, train[train.columns[84:103]]])"
   ]
  },
  {
   "cell_type": "code",
   "execution_count": 148,
   "metadata": {
    "collapsed": false
   },
   "outputs": [
    {
     "data": {
      "text/plain": [
       "(68061, 1875)"
      ]
     },
     "execution_count": 148,
     "metadata": {},
     "output_type": "execute_result"
    }
   ],
   "source": [
    "X_train.shape"
   ]
  },
  {
   "cell_type": "code",
   "execution_count": 149,
   "metadata": {
    "collapsed": true
   },
   "outputs": [],
   "source": [
    "X_test1 = data2sparse(test[train.columns[:103]], num_heroes, names)"
   ]
  },
  {
   "cell_type": "code",
   "execution_count": 150,
   "metadata": {
    "collapsed": false
   },
   "outputs": [],
   "source": [
    "X_test= np.hstack([X_test1.toarray(), test[train.columns[109:]], test[train.columns[84:103]]])"
   ]
  },
  {
   "cell_type": "code",
   "execution_count": 151,
   "metadata": {
    "collapsed": false
   },
   "outputs": [],
   "source": [
    "del X_test1"
   ]
  },
  {
   "cell_type": "code",
   "execution_count": 152,
   "metadata": {
    "collapsed": true
   },
   "outputs": [],
   "source": [
    "#from sklearn.preprocessing import normalize"
   ]
  },
  {
   "cell_type": "code",
   "execution_count": 153,
   "metadata": {
    "collapsed": true
   },
   "outputs": [],
   "source": [
    "#X_test = normalize(X_test)"
   ]
  },
  {
   "cell_type": "code",
   "execution_count": 154,
   "metadata": {
    "collapsed": false
   },
   "outputs": [],
   "source": [
    "#X_train = normalize(X_train[:20000])"
   ]
  },
  {
   "cell_type": "code",
   "execution_count": 155,
   "metadata": {
    "collapsed": true
   },
   "outputs": [],
   "source": [
    "model1 = LogisticRegression(C=0.03, penalty='l1', tol=0.01, solver=\"liblinear\")"
   ]
  },
  {
   "cell_type": "code",
   "execution_count": 156,
   "metadata": {
    "collapsed": false
   },
   "outputs": [
    {
     "data": {
      "text/plain": [
       "LogisticRegression(C=0.03, class_weight=None, dual=False, fit_intercept=True,\n",
       "          intercept_scaling=1, max_iter=100, multi_class='ovr', n_jobs=1,\n",
       "          penalty='l1', random_state=None, solver='liblinear', tol=0.01,\n",
       "          verbose=0, warm_start=False)"
      ]
     },
     "execution_count": 156,
     "metadata": {},
     "output_type": "execute_result"
    }
   ],
   "source": [
    "model1.fit(X_train,y_train)"
   ]
  },
  {
   "cell_type": "code",
   "execution_count": 157,
   "metadata": {
    "collapsed": false
   },
   "outputs": [
    {
     "name": "stdout",
     "output_type": "stream",
     "text": [
      "0.757145097779\n"
     ]
    }
   ],
   "source": [
    "pred1 = model1.predict_proba(X_test)[:,1]\n",
    "print roc_auc_score(y_test, pred1)"
   ]
  },
  {
   "cell_type": "markdown",
   "metadata": {},
   "source": [
    "### Roles classifier"
   ]
  },
  {
   "cell_type": "code",
   "execution_count": 66,
   "metadata": {
    "collapsed": true
   },
   "outputs": [],
   "source": [
    "X_train = train[train.columns[109:]]\n",
    "X_test = test[train.columns[109:]]"
   ]
  },
  {
   "cell_type": "code",
   "execution_count": 44,
   "metadata": {
    "collapsed": false
   },
   "outputs": [
    {
     "data": {
      "text/plain": [
       "LogisticRegression(C=0.017, class_weight=None, dual=False, fit_intercept=True,\n",
       "          intercept_scaling=1, max_iter=100, multi_class='ovr',\n",
       "          penalty='l1', random_state=142, solver='liblinear', tol=0.01,\n",
       "          verbose=0)"
      ]
     },
     "execution_count": 44,
     "metadata": {},
     "output_type": "execute_result"
    }
   ],
   "source": [
    "model2 = LogisticRegression(C=0.017, penalty='l1', tol=0.01, random_state=142)\n",
    "model2.fit(X_train,y_train)"
   ]
  },
  {
   "cell_type": "code",
   "execution_count": 45,
   "metadata": {
    "collapsed": false
   },
   "outputs": [
    {
     "name": "stdout",
     "output_type": "stream",
     "text": [
      "0.725042769455\n"
     ]
    }
   ],
   "source": [
    "pred1 = model2.predict_proba(X_test)[:,1]\n",
    "print roc_auc_score(y_test, pred1)"
   ]
  },
  {
   "cell_type": "code",
   "execution_count": 67,
   "metadata": {
    "collapsed": false
   },
   "outputs": [],
   "source": [
    "e2 = 1-model2.score(X_test, y_test)\n",
    "a2 = 0.5*np.log((1-e2)/e2)"
   ]
  },
  {
   "cell_type": "code",
   "execution_count": null,
   "metadata": {
    "collapsed": true
   },
   "outputs": [],
   "source": []
  },
  {
   "cell_type": "code",
   "execution_count": null,
   "metadata": {
    "collapsed": true
   },
   "outputs": [],
   "source": []
  },
  {
   "cell_type": "markdown",
   "metadata": {},
   "source": [
    "### Parameters classifier"
   ]
  },
  {
   "cell_type": "code",
   "execution_count": 50,
   "metadata": {
    "collapsed": true
   },
   "outputs": [],
   "source": [
    "X_train = train[train.columns[84:103]]\n",
    "X_test = test[train.columns[84:103]]"
   ]
  },
  {
   "cell_type": "code",
   "execution_count": 51,
   "metadata": {
    "collapsed": true
   },
   "outputs": [],
   "source": [
    "model3 = LogisticRegression(C=0.017, penalty='l1', tol=0.01, random_state=142)"
   ]
  },
  {
   "cell_type": "code",
   "execution_count": 52,
   "metadata": {
    "collapsed": false
   },
   "outputs": [
    {
     "data": {
      "text/plain": [
       "LogisticRegression(C=0.017, class_weight=None, dual=False, fit_intercept=True,\n",
       "          intercept_scaling=1, max_iter=100, multi_class='ovr',\n",
       "          penalty='l1', random_state=142, solver='liblinear', tol=0.01,\n",
       "          verbose=0)"
      ]
     },
     "execution_count": 52,
     "metadata": {},
     "output_type": "execute_result"
    }
   ],
   "source": [
    "model3.fit(X_train,y_train)"
   ]
  },
  {
   "cell_type": "code",
   "execution_count": 53,
   "metadata": {
    "collapsed": false
   },
   "outputs": [
    {
     "name": "stdout",
     "output_type": "stream",
     "text": [
      "0.625170895186\n"
     ]
    }
   ],
   "source": [
    "pred1 = model3.predict_proba(X_test)[:,1]\n",
    "print roc_auc_score(y_test, pred1)"
   ]
  },
  {
   "cell_type": "code",
   "execution_count": 54,
   "metadata": {
    "collapsed": true
   },
   "outputs": [],
   "source": [
    "w3 = model3.score(X_test, y_test)"
   ]
  },
  {
   "cell_type": "code",
   "execution_count": 55,
   "metadata": {
    "collapsed": false
   },
   "outputs": [
    {
     "name": "stdout",
     "output_type": "stream",
     "text": [
      "0.590729884466\n"
     ]
    }
   ],
   "source": [
    "print w3"
   ]
  },
  {
   "cell_type": "markdown",
   "metadata": {},
   "source": [
    "### Row players data classifier"
   ]
  },
  {
   "cell_type": "code",
   "execution_count": 20,
   "metadata": {
    "collapsed": true
   },
   "outputs": [],
   "source": [
    "X_train = train[train.columns[:83]]\n",
    "X_test = test[train.columns[:83]]"
   ]
  },
  {
   "cell_type": "code",
   "execution_count": 21,
   "metadata": {
    "collapsed": true
   },
   "outputs": [],
   "source": [
    "model4 = LogisticRegression(C=0.017, penalty='l1', tol=0.01, random_state=142)"
   ]
  },
  {
   "cell_type": "code",
   "execution_count": 22,
   "metadata": {
    "collapsed": false
   },
   "outputs": [
    {
     "data": {
      "text/plain": [
       "LogisticRegression(C=0.017, class_weight=None, dual=False, fit_intercept=True,\n",
       "          intercept_scaling=1, max_iter=100, multi_class='ovr',\n",
       "          penalty='l1', random_state=142, solver='liblinear', tol=0.01,\n",
       "          verbose=0)"
      ]
     },
     "execution_count": 22,
     "metadata": {},
     "output_type": "execute_result"
    }
   ],
   "source": [
    "model4.fit(X_train,y_train)"
   ]
  },
  {
   "cell_type": "code",
   "execution_count": 23,
   "metadata": {
    "collapsed": false
   },
   "outputs": [
    {
     "name": "stdout",
     "output_type": "stream",
     "text": [
      "0.713816036967\n"
     ]
    }
   ],
   "source": [
    "pred1 = model4.predict_proba(X_test)[:,1]\n",
    "print roc_auc_score(y_test, pred1)"
   ]
  },
  {
   "cell_type": "code",
   "execution_count": null,
   "metadata": {
    "collapsed": true
   },
   "outputs": [],
   "source": []
  },
  {
   "cell_type": "markdown",
   "metadata": {},
   "source": [
    "# 7. Gradient boosting"
   ]
  },
  {
   "cell_type": "code",
   "execution_count": null,
   "metadata": {
    "collapsed": true
   },
   "outputs": [],
   "source": [
    "from sklearn.ensemble import GradientBoostingClassifier\n",
    "from sklearn.metrics import log_loss\n",
    "from sklearn.metrics import roc_auc_score"
   ]
  },
  {
   "cell_type": "raw",
   "metadata": {},
   "source": [
    "rates = [0.3,]\n",
    "n=300\n",
    "loss_matrix=range(n)\n",
    "for rate in rates:\n",
    "    clf = GradientBoostingClassifier(n_estimators=n, verbose=True, random_state=241, learning_rate=rate)\n",
    "    clf.fit(X_train,y_train)\n",
    "    loss_test=[]\n",
    "    loss_train=[]\n",
    "    min_loss=1\n",
    "    i_min=0\n",
    "    for i, y_decision in enumerate(clf.staged_decision_function(X_test.toarray())):\n",
    "        y_pred = 1.0 / (1.0 + np.exp(-y_decision))\n",
    "        l = roc_auc_score(y_test, y_pred)\n",
    "        loss_test.append(l)\n",
    "        if l<min_loss and rate==0.2:\n",
    "            min_loss=l\n",
    "            i_min=i\n",
    "    for i, y_decision in enumerate(clf.staged_decision_function(X_train.toarray())):\n",
    "        y_predt = 1.0 / (1.0 + np.exp(-y_decision))\n",
    "        lt = roc_auc_score(y_train, y_predt)\n",
    "        loss_train.append(lt)\n",
    "\n",
    "    loss_matrix=np.vstack([loss_matrix,loss_test,loss_train])"
   ]
  },
  {
   "cell_type": "code",
   "execution_count": null,
   "metadata": {
    "collapsed": false
   },
   "outputs": [],
   "source": [
    "model2 = GradientBoostingClassifier(n_estimators=300, verbose=True, random_state=241, learning_rate=0.3)\n",
    "model2.fit(X_train,y_train)"
   ]
  },
  {
   "cell_type": "code",
   "execution_count": null,
   "metadata": {
    "collapsed": false
   },
   "outputs": [],
   "source": [
    "pred1 = model1.predict_proba(X_test.toarray())[:, 1]\n",
    "pred2 = model2.predict_proba(X_test.toarray())[:, 1]\n",
    "print roc_auc_score(y_test, pred1)\n",
    "print roc_auc_score(y_test, pred2)"
   ]
  },
  {
   "cell_type": "code",
   "execution_count": null,
   "metadata": {
    "collapsed": true
   },
   "outputs": [],
   "source": []
  }
 ],
 "metadata": {
  "kernelspec": {
   "display_name": "Python 2",
   "language": "python",
   "name": "python2"
  },
  "language_info": {
   "codemirror_mode": {
    "name": "ipython",
    "version": 2
   },
   "file_extension": ".py",
   "mimetype": "text/x-python",
   "name": "python",
   "nbconvert_exporter": "python",
   "pygments_lexer": "ipython2",
   "version": "2.7.13"
  }
 },
 "nbformat": 4,
 "nbformat_minor": 0
}
