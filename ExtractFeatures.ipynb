{
 "cells": [
  {
   "cell_type": "code",
   "execution_count": 1,
   "metadata": {
    "collapsed": true
   },
   "outputs": [],
   "source": [
    "import bz2\n",
    "import json\n",
    "import pandas\n",
    "import collections\n",
    "import argparse"
   ]
  },
  {
   "cell_type": "code",
   "execution_count": 2,
   "metadata": {
    "collapsed": true
   },
   "outputs": [],
   "source": [
    "def last_value(series, times, time_point=60*5):\n",
    "    values = [v for t, v in zip(times, series) if t <= time_point]\n",
    "    return values[-1] if len(values) > 0 else 0"
   ]
  },
  {
   "cell_type": "code",
   "execution_count": 3,
   "metadata": {
    "collapsed": true
   },
   "outputs": [],
   "source": [
    "def filter_events(events, time_point=60*5):\n",
    "    return [event for event in events if event['time'] <= time_point]"
   ]
  },
  {
   "cell_type": "code",
   "execution_count": 4,
   "metadata": {
    "collapsed": true
   },
   "outputs": [],
   "source": [
    "def extract_match_features(match, time_point=None):\n",
    "    extract_items_time = [\n",
    "        (41, 'bottle'),\n",
    "        (45, 'courier'),\n",
    "        (84, 'flying_courier'),\n",
    "    ]\n",
    "    extract_items_count = [\n",
    "        (46, 'tpscroll'),\n",
    "        (29, 'boots'),\n",
    "        (42, 'ward_observer'),\n",
    "        (43, 'ward_sentry'),\n",
    "    ]\n",
    "    \n",
    "    feats = [\n",
    "        ('match_id', match['match_id']),\n",
    "        ('start_time', match['start_time']),\n",
    "        ('lobby_type', match['lobby_type']),\n",
    "    ]\n",
    "    \n",
    "    # player features\n",
    "    \n",
    "    times = match['times']\n",
    "    for player_index, player in enumerate(match['players']):\n",
    "        player_id = ('r%d' % (player_index+1)) if player_index < 5 else ('d%d' % (player_index-4))\n",
    "        \n",
    "        feats += [\n",
    "            (player_id + '_hero', player['hero_id']),\n",
    "            (player_id + '_level', max([0] + [entry['level'] for entry in filter_events(player['ability_upgrades'], time_point)])),\n",
    "            (player_id + '_xp', last_value(player['xp_t'], times, time_point)),\n",
    "            (player_id + '_gold', last_value(player['gold_t'], times, time_point)),\n",
    "            (player_id + '_lh', last_value(player['lh_t'], times, time_point)),\n",
    "            (player_id + '_kills', len(filter_events(player['kills_log'], time_point))),\n",
    "            (player_id + '_deaths', len([\n",
    "                    1\n",
    "                    for other_player in match['players']\n",
    "                    for event in filter_events(other_player['kills_log'], time_point)\n",
    "                    if event['player'] == player_index   \n",
    "                ])),\n",
    "            (player_id + '_items', len(filter_events(player['purchase_log'], time_point))),\n",
    "        ]\n",
    "        \n",
    "    # first blood\n",
    "    first_blood_objectives = filter_events([obj for obj in match['objectives'] if obj['type'] == 'firstblood'], time_point)\n",
    "    fb = first_blood_objectives[0] if len(first_blood_objectives) > 0 else {}\n",
    "    feats += [\n",
    "        ('first_blood_time', fb.get('time')),\n",
    "        ('first_blood_team', int(fb['player1'] >= 5) if fb.get('player1') is not None else None),\n",
    "        ('first_blood_player1', fb.get('player1')),\n",
    "        ('first_blood_player2', fb.get('player2')),\n",
    "    ]\n",
    "    \n",
    "    # team features\n",
    "    radiant_players = match['players'][:5]\n",
    "    dire_players = match['players'][5:]\n",
    "    \n",
    "    for team, team_players in (('radiant', radiant_players), ('dire', dire_players)):\n",
    "        for item_id, item_name in extract_items_time:\n",
    "            item_times = [\n",
    "                entry['time']\n",
    "                for player in team_players\n",
    "                for entry in filter_events(player['purchase_log'], time_point)\n",
    "                if entry['item_id'] == item_id\n",
    "            ]\n",
    "            first_item_time = min(item_times) if len(item_times) > 0 else None\n",
    "            feats += [\n",
    "                ('%s_%s_time' % (team, item_name), first_item_time)\n",
    "            ]\n",
    "            \n",
    "        for item_id, item_name in extract_items_count:\n",
    "            item_count = sum([\n",
    "                1\n",
    "                for player in team_players\n",
    "                for entry in filter_events(player['purchase_log'], time_point)\n",
    "                if entry['item_id'] == item_id\n",
    "            ])\n",
    "            feats += [\n",
    "                ('%s_%s_count' % (team, item_name), item_count)\n",
    "            ]\n",
    "            \n",
    "        team_wards = filter_events([\n",
    "            entry\n",
    "            for player in team_players\n",
    "            for entry in (player['obs_log'] + player['sen_log'])\n",
    "        ], time_point)\n",
    "        \n",
    "        feats += [\n",
    "            ('%s_first_ward_time' % team, min([entry['time'] for entry in team_wards]) if len(team_wards) > 0 else None),\n",
    "        ]\n",
    "\n",
    "    if 'finish' in match:\n",
    "        finish = match['finish']\n",
    "        feats += [\n",
    "            ('duration', finish['duration']),\n",
    "            ('radiant_win', int(finish['radiant_win'])),\n",
    "            ('tower_status_radiant', finish['tower_status_radiant']),\n",
    "            ('tower_status_dire', finish['tower_status_dire']),\n",
    "            ('barracks_status_radiant', finish['barracks_status_radiant']),\n",
    "            ('barracks_status_dire', finish['barracks_status_dire']),\n",
    "        ]\n",
    "\n",
    "    return collections.OrderedDict(feats)"
   ]
  },
  {
   "cell_type": "code",
   "execution_count": 5,
   "metadata": {
    "collapsed": true
   },
   "outputs": [],
   "source": [
    "def iterate_matches(matches_filename):\n",
    "    with bz2.BZ2File(matches_filename) as f:\n",
    "        for n, line in enumerate(f):\n",
    "            match = json.loads(line)\n",
    "            yield match\n",
    "            if (n+1) % 1000 == 0:\n",
    "                print 'Processed %d matches' % (n+1)"
   ]
  },
  {
   "cell_type": "code",
   "execution_count": 6,
   "metadata": {
    "collapsed": true
   },
   "outputs": [],
   "source": [
    "def create_table(matches_filename, time_point):\n",
    "    df = {}\n",
    "    fields = None\n",
    "    for match in iterate_matches(matches_filename):\n",
    "        features = extract_match_features(match, time_point)\n",
    "        if fields is None:\n",
    "            fields = features.keys()\n",
    "            df = {key: [] for key in fields}    \n",
    "        for key, value in features.iteritems():\n",
    "            df[key].append(value)\n",
    "    df = pandas.DataFrame.from_records(df).ix[:, fields].set_index('match_id').sort_index()\n",
    "    return df"
   ]
  },
  {
   "cell_type": "code",
   "execution_count": 11,
   "metadata": {
    "collapsed": false
   },
   "outputs": [
    {
     "name": "stderr",
     "output_type": "stream",
     "text": [
      "usage: __main__.py [-h] matches_test.jsonlines output.csv 1\n",
      "__main__.py: error: too few arguments\n"
     ]
    },
    {
     "ename": "SystemExit",
     "evalue": "2",
     "output_type": "error",
     "traceback": [
      "An exception has occurred, use %tb to see the full traceback.\n",
      "\u001b[0;31mSystemExit\u001b[0m\u001b[0;31m:\u001b[0m 2\n"
     ]
    },
    {
     "name": "stderr",
     "output_type": "stream",
     "text": [
      "To exit: use 'exit', 'quit', or Ctrl-D.\n"
     ]
    }
   ],
   "source": [
    "if __name__ == '__main__':\n",
    "    parser = argparse.ArgumentParser(description='Extract features from matches data')\n",
    "    parser.add_argument('matches_test.jsonlines')\n",
    "    parser.add_argument('output.csv')\n",
    "    parser.add_argument('1', type=int, default=5*60)\n",
    "    args = parser.parse_args()\n",
    "    \n",
    "    features_table = create_table(args.input_matches, args.time)\n",
    "    features_table.to_csv(args.output_csv)\n"
   ]
  },
  {
   "cell_type": "code",
   "execution_count": null,
   "metadata": {
    "collapsed": true
   },
   "outputs": [],
   "source": []
  }
 ],
 "metadata": {
  "kernelspec": {
   "display_name": "Python 2",
   "language": "python",
   "name": "python2"
  },
  "language_info": {
   "codemirror_mode": {
    "name": "ipython",
    "version": 2
   },
   "file_extension": ".py",
   "mimetype": "text/x-python",
   "name": "python",
   "nbconvert_exporter": "python",
   "pygments_lexer": "ipython2",
   "version": "2.7.10"
  }
 },
 "nbformat": 4,
 "nbformat_minor": 0
}
