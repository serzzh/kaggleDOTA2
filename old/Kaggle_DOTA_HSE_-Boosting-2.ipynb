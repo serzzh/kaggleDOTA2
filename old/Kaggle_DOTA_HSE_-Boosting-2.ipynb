{
 "cells": [
  {
   "cell_type": "code",
   "execution_count": 1,
   "metadata": {
    "collapsed": true
   },
   "outputs": [],
   "source": [
    "import numpy as np\n",
    "import pandas as pd\n",
    "import sklearn\n",
    "from sklearn.cross_validation import train_test_split\n",
    "from sklearn.metrics import roc_auc_score\n",
    "import sklearn.metrics\n",
    "import scipy as sp\n",
    "from scipy import sparse\n",
    "from sklearn.linear_model import LogisticRegression"
   ]
  },
  {
   "cell_type": "markdown",
   "metadata": {},
   "source": [
    "# 1. Sparse logistics classifier"
   ]
  },
  {
   "cell_type": "code",
   "execution_count": 2,
   "metadata": {
    "collapsed": false
   },
   "outputs": [],
   "source": [
    "features = pd.read_csv(\"features.csv\")\n",
    "features_check = pd.read_csv(\"features_test.csv\")\n",
    "name_vector = list(features_check.columns)[2:]\n",
    "features = features.fillna(0)\n",
    "features_check = features_check.fillna(0)\n",
    "data = features\n",
    "sub = features_check\n",
    "y = data['radiant_win']\n",
    "del(features)\n",
    "del(features_check)"
   ]
  },
  {
   "cell_type": "code",
   "execution_count": 3,
   "metadata": {
    "collapsed": false
   },
   "outputs": [],
   "source": [
    "num_heroes = len(data['r1_hero'].unique()) \n",
    "r_new = []\n",
    "for i in xrange(num_heroes):\n",
    "    r_new += ['r'+str(i+1)+'hero','r'+str(i+1)+'level', 'r'+str(i+1)+'xp', 'r'+str(i+1)+'gold', 'r'+str(i+1)+'lh',\n",
    "             'r'+str(i+1)+'kills','r'+str(i+1)+'deaths','r'+str(i+1)+'items', 'd'+str(i+1)+'hero', 'd'+str(i+1)+'level', \n",
    "             'd'+str(i+1)+'xp', 'd'+str(i+1)+'gold', 'd'+str(i+1)+'lh','d'+str(i+1)+'kills','d'+str(i+1)+'deaths',\n",
    "             'd'+str(i+1)+'items']"
   ]
  },
  {
   "cell_type": "code",
   "execution_count": 4,
   "metadata": {
    "collapsed": false
   },
   "outputs": [],
   "source": [
    "data=data.fillna(0)\n",
    "r1 = data['r1_hero']*16-16\n",
    "r2 = data['r2_hero']*16-16\n",
    "r3 = data['r3_hero']*16-16\n",
    "r4 = data['r4_hero']*16-16\n",
    "r5 = data['r5_hero']*16-16\n",
    "d1 = data['d1_hero']*16-16\n",
    "d2 = data['d2_hero']*16-16\n",
    "d3 = data['d3_hero']*16-16\n",
    "d4 = data['d4_hero']*16-16\n",
    "d5 = data['d5_hero']*16-16\n",
    "r = np.transpose([r1,r2,r3,r4,r5,d1,d2,d3,d4,d5])\n",
    "names = list(data.columns.values)\n",
    "row = []\n",
    "col = []\n",
    "val = []\n",
    "for i in xrange(len(data)):\n",
    "    for k in xrange(5):\n",
    "        for j in xrange(8):\n",
    "            row.insert(j+8*k+i*1000,i)\n",
    "            col.insert(j+8*k+i*1000,r[i,k]+j)\n",
    "            val.insert(j+8*k+i*1000,data[names[3+j+8*k]][i])\n",
    "            row.insert(j+8*(k+5)+i*1000,i)\n",
    "            col.insert(j+8*(k+5)+i*1000,r[i,(k+5)]+j)\n",
    "            val.insert(j+8*(k+5)+i*1000,-data[names[3+j+8*(k+5)]][i])"
   ]
  },
  {
   "cell_type": "code",
   "execution_count": 5,
   "metadata": {
    "collapsed": true
   },
   "outputs": [],
   "source": [
    "sub=sub.fillna(0)\n",
    "r1 = sub['r1_hero']*16-16\n",
    "r2 = sub['r2_hero']*16-16\n",
    "r3 = sub['r3_hero']*16-16\n",
    "r4 = sub['r4_hero']*16-16\n",
    "r5 = sub['r5_hero']*16-16\n",
    "d1 = sub['d1_hero']*16-16\n",
    "d2 = sub['d2_hero']*16-16\n",
    "d3 = sub['d3_hero']*16-16\n",
    "d4 = sub['d4_hero']*16-16\n",
    "d5 = sub['d5_hero']*16-16\n",
    "r = np.transpose([r1,r2,r3,r4,r5,d1,d2,d3,d4,d5])\n",
    "names = list(data.columns.values)\n",
    "row_s = []\n",
    "col_s = []\n",
    "val_s = []\n",
    "for i in xrange(len(sub)):\n",
    "    for k in xrange(5):\n",
    "        for j in xrange(8):\n",
    "            row_s.insert(j+8*k+i*1000,i)\n",
    "            col_s.insert(j+8*k+i*1000,r[i,k]+j)\n",
    "            val_s.insert(j+8*k+i*1000,sub[names[3+j+8*k]][i])\n",
    "            row_s.insert(j+8*(k+5)+i*1000,i)\n",
    "            col_s.insert(j+8*(k+5)+i*1000,r[i,(k+5)]+j)\n",
    "            val_s.insert(j+8*(k+5)+i*1000,-sub[names[3+j+8*(k+5)]][i])"
   ]
  },
  {
   "cell_type": "code",
   "execution_count": 6,
   "metadata": {
    "collapsed": false
   },
   "outputs": [],
   "source": [
    "nele=len(data)\n",
    "nbus=np.amax(r)+8\n",
    "sp_features = sparse.coo_matrix((val, (row,col)), shape=(nele, nbus), dtype=float)"
   ]
  },
  {
   "cell_type": "code",
   "execution_count": 7,
   "metadata": {
    "collapsed": true
   },
   "outputs": [],
   "source": [
    "nele=len(sub)\n",
    "nbus=np.amax(r)+8\n",
    "sub_features = sparse.coo_matrix((val_s, (row_s,col_s)), shape=(nele, nbus), dtype=float)"
   ]
  },
  {
   "cell_type": "code",
   "execution_count": 8,
   "metadata": {
    "collapsed": false
   },
   "outputs": [],
   "source": [
    "sp_csr = sp_features.tocsr()\n",
    "del(sp_features)\n",
    "del val, row, col"
   ]
  },
  {
   "cell_type": "code",
   "execution_count": 9,
   "metadata": {
    "collapsed": true
   },
   "outputs": [],
   "source": [
    "sub_csr = sub_features.tocsr()\n",
    "del(sub_features)"
   ]
  },
  {
   "cell_type": "code",
   "execution_count": 10,
   "metadata": {
    "collapsed": false
   },
   "outputs": [],
   "source": [
    "X_train, X_test, y_train, y_test = train_test_split(\n",
    "...     sp_csr, y, test_size=0.3, random_state=1)\n",
    "del(sp_csr)"
   ]
  },
  {
   "cell_type": "code",
   "execution_count": 11,
   "metadata": {
    "collapsed": true
   },
   "outputs": [],
   "source": [
    "model1 = LogisticRegression(C=0.017, penalty='l1', tol=0.01, random_state=142)"
   ]
  },
  {
   "cell_type": "code",
   "execution_count": 12,
   "metadata": {
    "collapsed": false
   },
   "outputs": [
    {
     "data": {
      "text/plain": [
       "LogisticRegression(C=0.017, class_weight=None, dual=False, fit_intercept=True,\n",
       "          intercept_scaling=1, max_iter=100, multi_class='ovr', n_jobs=1,\n",
       "          penalty='l1', random_state=142, solver='liblinear', tol=0.01,\n",
       "          verbose=0, warm_start=False)"
      ]
     },
     "execution_count": 12,
     "metadata": {},
     "output_type": "execute_result"
    }
   ],
   "source": [
    "model1.fit(X_train,y_train)"
   ]
  },
  {
   "cell_type": "code",
   "execution_count": 13,
   "metadata": {
    "collapsed": false
   },
   "outputs": [
    {
     "name": "stdout",
     "output_type": "stream",
     "text": [
      "0.75556750871\n"
     ]
    }
   ],
   "source": [
    "pred1 = model1.predict_proba(X_test.toarray())[:,1]\n",
    "print roc_auc_score(y_test, pred1)"
   ]
  },
  {
   "cell_type": "code",
   "execution_count": null,
   "metadata": {
    "collapsed": true
   },
   "outputs": [],
   "source": [
    "a = np.ones(len(data))/len(data)"
   ]
  },
  {
   "cell_type": "markdown",
   "metadata": {
    "collapsed": true
   },
   "source": [
    "# Roles logistics classifier"
   ]
  },
  {
   "cell_type": "code",
   "execution_count": 14,
   "metadata": {
    "collapsed": false
   },
   "outputs": [],
   "source": [
    "features = pd.read_csv(\"features.csv\")\n",
    "features_check = pd.read_csv(\"features_test.csv\")\n",
    "name_vector = features_check.columns\n",
    "features = features.fillna(0)\n",
    "y = features['radiant_win']\n",
    "data=features[name_vector]\n",
    "del features\n",
    "del features_check"
   ]
  },
  {
   "cell_type": "code",
   "execution_count": 15,
   "metadata": {
    "collapsed": false
   },
   "outputs": [],
   "source": [
    "heroes = pd.read_csv('dictionaries/heroes2.csv', ';')\n",
    "type_vector = list(heroes.columns)[3:]\n",
    "heroes['sum']=1.*heroes[type_vector].sum(axis=1)\n",
    "for i in xrange(len(type_vector)):\n",
    "    heroes[type_vector[i]]=np.divide(heroes[type_vector[i]],heroes['sum'])\n",
    "del heroes['sum']\n",
    "new = []\n",
    "r_old = []\n",
    "d_old = []\n",
    "type_vector = list(heroes.columns)[3:]\n",
    "attr = ['_hero', '_level', '_xp', '_gold', '_lh', '_kills', '_deaths', '_items']\n",
    "for k in type_vector:\n",
    "    for i in attr:\n",
    "        new += [k+i]\n",
    "for k in range(0,5):\n",
    "    for i in attr:\n",
    "        r_old+=['r'+str(k+1)+i] \n",
    "for k in range(0,5):\n",
    "    for i in attr:\n",
    "        d_old+=['d'+str(k+1)+i] \n",
    "for i in list(new):\n",
    "    data[i]=0\n",
    "    sub[i]=0\n",
    "type_vector = list(heroes.columns)[3:12]\n",
    "type_vector.append('match_id')"
   ]
  },
  {
   "cell_type": "code",
   "execution_count": 16,
   "metadata": {
    "collapsed": false
   },
   "outputs": [
    {
     "name": "stderr",
     "output_type": "stream",
     "text": [
      "/opt/anaconda/anaconda2/lib/python2.7/site-packages/ipykernel/__main__.py:2: FutureWarning: sort(columns=....) is deprecated, use sort_values(by=.....)\n",
      "  from ipykernel import kernelapp as app\n",
      "/opt/anaconda/anaconda2/lib/python2.7/site-packages/ipykernel/__main__.py:4: FutureWarning: sort(columns=....) is deprecated, use sort_values(by=.....)\n",
      "/opt/anaconda/anaconda2/lib/python2.7/site-packages/ipykernel/__main__.py:15: FutureWarning: sort(columns=....) is deprecated, use sort_values(by=.....)\n",
      "/opt/anaconda/anaconda2/lib/python2.7/site-packages/ipykernel/__main__.py:17: FutureWarning: sort(columns=....) is deprecated, use sort_values(by=.....)\n"
     ]
    }
   ],
   "source": [
    "for j in xrange(5):\n",
    "    R = pd.merge(data[['match_id',r_old[8*j]]],heroes,left_on=r_old[8*j],right_on='id').sort(\"match_id\")\n",
    "    R.index = range(0,len(R))\n",
    "    D = pd.merge(data[['match_id',d_old[8*j]]],heroes,left_on=d_old[8*j],right_on='id').sort(\"match_id\")\n",
    "    D.index = range(0,len(D))\n",
    "    for i in xrange(9):\n",
    "        for k in xrange(8):\n",
    "            x=type_vector[i]\n",
    "            if k == 0:\n",
    "                data[new[8*i+k]]+=R[x]\n",
    "                data[new[8*i+k]]-=D[x]\n",
    "            else:\n",
    "                data[new[8*i+k]]+=R[x]*data[r_old[8*j+k]]\n",
    "                data[new[8*i+k]]-=D[x]*data[d_old[8*j+k]] \n",
    "    R = pd.merge(sub[['match_id',r_old[8*j]]],heroes,left_on=r_old[8*j],right_on='id').sort(\"match_id\")\n",
    "    R.index = range(0,len(R))\n",
    "    D = pd.merge(sub[['match_id',d_old[8*j]]],heroes,left_on=d_old[8*j],right_on='id').sort(\"match_id\")\n",
    "    D.index = range(0,len(D))\n",
    "    for i in xrange(9):\n",
    "        for k in xrange(8):\n",
    "            x=type_vector[i]\n",
    "            if k == 0:\n",
    "                sub[new[8*i+k]]+=R[x]\n",
    "                sub[new[8*i+k]]-=D[x]\n",
    "            else:\n",
    "                sub[new[8*i+k]]+=R[x]*sub[r_old[8*j+k]]\n",
    "                sub[new[8*i+k]]-=D[x]*sub[d_old[8*j+k]]  "
   ]
  },
  {
   "cell_type": "code",
   "execution_count": 31,
   "metadata": {
    "collapsed": false
   },
   "outputs": [
    {
     "data": {
      "text/html": [
       "<div>\n",
       "<table border=\"1\" class=\"dataframe\">\n",
       "  <thead>\n",
       "    <tr style=\"text-align: right;\">\n",
       "      <th></th>\n",
       "      <th>first_blood_time</th>\n",
       "      <th>first_blood_team</th>\n",
       "      <th>first_blood_player1</th>\n",
       "      <th>first_blood_player2</th>\n",
       "      <th>radiant_bottle_time</th>\n",
       "      <th>radiant_courier_time</th>\n",
       "      <th>radiant_flying_courier_time</th>\n",
       "      <th>radiant_tpscroll_count</th>\n",
       "      <th>radiant_boots_count</th>\n",
       "      <th>radiant_ward_observer_count</th>\n",
       "      <th>radiant_ward_sentry_count</th>\n",
       "      <th>radiant_first_ward_time</th>\n",
       "      <th>dire_bottle_time</th>\n",
       "      <th>dire_courier_time</th>\n",
       "      <th>dire_flying_courier_time</th>\n",
       "      <th>dire_tpscroll_count</th>\n",
       "      <th>dire_boots_count</th>\n",
       "      <th>dire_ward_observer_count</th>\n",
       "      <th>dire_ward_sentry_count</th>\n",
       "    </tr>\n",
       "  </thead>\n",
       "  <tbody>\n",
       "    <tr>\n",
       "      <th>0</th>\n",
       "      <td>7</td>\n",
       "      <td>1</td>\n",
       "      <td>9</td>\n",
       "      <td>0</td>\n",
       "      <td>134</td>\n",
       "      <td>-80</td>\n",
       "      <td>244</td>\n",
       "      <td>2</td>\n",
       "      <td>2</td>\n",
       "      <td>2</td>\n",
       "      <td>0</td>\n",
       "      <td>35</td>\n",
       "      <td>103</td>\n",
       "      <td>-84</td>\n",
       "      <td>221</td>\n",
       "      <td>3</td>\n",
       "      <td>4</td>\n",
       "      <td>2</td>\n",
       "      <td>2</td>\n",
       "    </tr>\n",
       "    <tr>\n",
       "      <th>1</th>\n",
       "      <td>54</td>\n",
       "      <td>1</td>\n",
       "      <td>7</td>\n",
       "      <td>0</td>\n",
       "      <td>173</td>\n",
       "      <td>-80</td>\n",
       "      <td>0</td>\n",
       "      <td>2</td>\n",
       "      <td>0</td>\n",
       "      <td>2</td>\n",
       "      <td>0</td>\n",
       "      <td>-20</td>\n",
       "      <td>149</td>\n",
       "      <td>-84</td>\n",
       "      <td>195</td>\n",
       "      <td>5</td>\n",
       "      <td>4</td>\n",
       "      <td>3</td>\n",
       "      <td>1</td>\n",
       "    </tr>\n",
       "    <tr>\n",
       "      <th>2</th>\n",
       "      <td>224</td>\n",
       "      <td>0</td>\n",
       "      <td>3</td>\n",
       "      <td>0</td>\n",
       "      <td>63</td>\n",
       "      <td>-82</td>\n",
       "      <td>0</td>\n",
       "      <td>2</td>\n",
       "      <td>5</td>\n",
       "      <td>2</td>\n",
       "      <td>1</td>\n",
       "      <td>-39</td>\n",
       "      <td>45</td>\n",
       "      <td>-77</td>\n",
       "      <td>221</td>\n",
       "      <td>3</td>\n",
       "      <td>4</td>\n",
       "      <td>3</td>\n",
       "      <td>1</td>\n",
       "    </tr>\n",
       "    <tr>\n",
       "      <th>3</th>\n",
       "      <td>0</td>\n",
       "      <td>0</td>\n",
       "      <td>0</td>\n",
       "      <td>0</td>\n",
       "      <td>208</td>\n",
       "      <td>-75</td>\n",
       "      <td>0</td>\n",
       "      <td>0</td>\n",
       "      <td>3</td>\n",
       "      <td>2</td>\n",
       "      <td>0</td>\n",
       "      <td>-30</td>\n",
       "      <td>124</td>\n",
       "      <td>-80</td>\n",
       "      <td>184</td>\n",
       "      <td>0</td>\n",
       "      <td>4</td>\n",
       "      <td>2</td>\n",
       "      <td>0</td>\n",
       "    </tr>\n",
       "    <tr>\n",
       "      <th>4</th>\n",
       "      <td>-21</td>\n",
       "      <td>1</td>\n",
       "      <td>6</td>\n",
       "      <td>0</td>\n",
       "      <td>166</td>\n",
       "      <td>-81</td>\n",
       "      <td>181</td>\n",
       "      <td>1</td>\n",
       "      <td>4</td>\n",
       "      <td>2</td>\n",
       "      <td>0</td>\n",
       "      <td>46</td>\n",
       "      <td>182</td>\n",
       "      <td>-80</td>\n",
       "      <td>225</td>\n",
       "      <td>6</td>\n",
       "      <td>3</td>\n",
       "      <td>3</td>\n",
       "      <td>0</td>\n",
       "    </tr>\n",
       "  </tbody>\n",
       "</table>\n",
       "</div>"
      ],
      "text/plain": [
       "   first_blood_time  first_blood_team  first_blood_player1  \\\n",
       "0                 7                 1                    9   \n",
       "1                54                 1                    7   \n",
       "2               224                 0                    3   \n",
       "3                 0                 0                    0   \n",
       "4               -21                 1                    6   \n",
       "\n",
       "   first_blood_player2  radiant_bottle_time  radiant_courier_time  \\\n",
       "0                    0                  134                   -80   \n",
       "1                    0                  173                   -80   \n",
       "2                    0                   63                   -82   \n",
       "3                    0                  208                   -75   \n",
       "4                    0                  166                   -81   \n",
       "\n",
       "   radiant_flying_courier_time  radiant_tpscroll_count  radiant_boots_count  \\\n",
       "0                          244                       2                    2   \n",
       "1                            0                       2                    0   \n",
       "2                            0                       2                    5   \n",
       "3                            0                       0                    3   \n",
       "4                          181                       1                    4   \n",
       "\n",
       "   radiant_ward_observer_count  radiant_ward_sentry_count  \\\n",
       "0                            2                          0   \n",
       "1                            2                          0   \n",
       "2                            2                          1   \n",
       "3                            2                          0   \n",
       "4                            2                          0   \n",
       "\n",
       "   radiant_first_ward_time  dire_bottle_time  dire_courier_time  \\\n",
       "0                       35               103                -84   \n",
       "1                      -20               149                -84   \n",
       "2                      -39                45                -77   \n",
       "3                      -30               124                -80   \n",
       "4                       46               182                -80   \n",
       "\n",
       "   dire_flying_courier_time  dire_tpscroll_count  dire_boots_count  \\\n",
       "0                       221                    3                 4   \n",
       "1                       195                    5                 4   \n",
       "2                       221                    3                 4   \n",
       "3                       184                    0                 4   \n",
       "4                       225                    6                 3   \n",
       "\n",
       "   dire_ward_observer_count  dire_ward_sentry_count  \n",
       "0                         2                       2  \n",
       "1                         3                       1  \n",
       "2                         3                       1  \n",
       "3                         2                       0  \n",
       "4                         3                       0  "
      ]
     },
     "execution_count": 31,
     "metadata": {},
     "output_type": "execute_result"
    }
   ],
   "source": [
    "data[data.columns[83:102]].head()"
   ]
  },
  {
   "cell_type": "code",
   "execution_count": 26,
   "metadata": {
    "collapsed": false
   },
   "outputs": [
    {
     "data": {
      "text/plain": [
       "(17177, 175)"
      ]
     },
     "execution_count": 26,
     "metadata": {},
     "output_type": "execute_result"
    }
   ],
   "source": [
    "sub.shape"
   ]
  },
  {
   "cell_type": "markdown",
   "metadata": {},
   "source": [
    "### Roles classifier"
   ]
  },
  {
   "cell_type": "code",
   "execution_count": 27,
   "metadata": {
    "collapsed": false
   },
   "outputs": [],
   "source": [
    "X_train, X_test, y_train, y_test = train_test_split(\n",
    "...     data[data.columns[103:]], y, test_size=0.3, random_state=1)"
   ]
  },
  {
   "cell_type": "code",
   "execution_count": 28,
   "metadata": {
    "collapsed": true
   },
   "outputs": [],
   "source": [
    "model1 = LogisticRegression(C=0.017, penalty='l1', tol=0.01, random_state=142)"
   ]
  },
  {
   "cell_type": "code",
   "execution_count": 29,
   "metadata": {
    "collapsed": false
   },
   "outputs": [
    {
     "data": {
      "text/plain": [
       "LogisticRegression(C=0.017, class_weight=None, dual=False, fit_intercept=True,\n",
       "          intercept_scaling=1, max_iter=100, multi_class='ovr', n_jobs=1,\n",
       "          penalty='l1', random_state=142, solver='liblinear', tol=0.01,\n",
       "          verbose=0, warm_start=False)"
      ]
     },
     "execution_count": 29,
     "metadata": {},
     "output_type": "execute_result"
    }
   ],
   "source": [
    "model1.fit(X_train,y_train)"
   ]
  },
  {
   "cell_type": "code",
   "execution_count": 30,
   "metadata": {
    "collapsed": false
   },
   "outputs": [
    {
     "name": "stdout",
     "output_type": "stream",
     "text": [
      "0.725115997473\n"
     ]
    }
   ],
   "source": [
    "pred1 = model1.predict_proba(X_test)[:,1]\n",
    "print roc_auc_score(y_test, pred1)"
   ]
  },
  {
   "cell_type": "markdown",
   "metadata": {},
   "source": [
    "### Parameters classifier"
   ]
  },
  {
   "cell_type": "code",
   "execution_count": 32,
   "metadata": {
    "collapsed": true
   },
   "outputs": [],
   "source": [
    "X_train, X_test, y_train, y_test = train_test_split(\n",
    "...     data[data.columns[83:102]], y, test_size=0.3, random_state=1)"
   ]
  },
  {
   "cell_type": "code",
   "execution_count": 33,
   "metadata": {
    "collapsed": true
   },
   "outputs": [],
   "source": [
    "model1 = LogisticRegression(C=0.017, penalty='l1', tol=0.01, random_state=142)"
   ]
  },
  {
   "cell_type": "code",
   "execution_count": 34,
   "metadata": {
    "collapsed": false
   },
   "outputs": [
    {
     "data": {
      "text/plain": [
       "LogisticRegression(C=0.017, class_weight=None, dual=False, fit_intercept=True,\n",
       "          intercept_scaling=1, max_iter=100, multi_class='ovr', n_jobs=1,\n",
       "          penalty='l1', random_state=142, solver='liblinear', tol=0.01,\n",
       "          verbose=0, warm_start=False)"
      ]
     },
     "execution_count": 34,
     "metadata": {},
     "output_type": "execute_result"
    }
   ],
   "source": [
    "model1.fit(X_train,y_train)"
   ]
  },
  {
   "cell_type": "code",
   "execution_count": 35,
   "metadata": {
    "collapsed": false
   },
   "outputs": [
    {
     "name": "stdout",
     "output_type": "stream",
     "text": [
      "0.623421043525\n"
     ]
    }
   ],
   "source": [
    "pred1 = model1.predict_proba(X_test)[:,1]\n",
    "print roc_auc_score(y_test, pred1)"
   ]
  },
  {
   "cell_type": "markdown",
   "metadata": {},
   "source": [
    "### Row players data classifier"
   ]
  },
  {
   "cell_type": "code",
   "execution_count": 36,
   "metadata": {
    "collapsed": true
   },
   "outputs": [],
   "source": [
    "X_train, X_test, y_train, y_test = train_test_split(\n",
    "...     data[data.columns[:82]], y, test_size=0.3, random_state=1)"
   ]
  },
  {
   "cell_type": "code",
   "execution_count": 37,
   "metadata": {
    "collapsed": true
   },
   "outputs": [],
   "source": [
    "model1 = LogisticRegression(C=0.017, penalty='l1', tol=0.01, random_state=142)"
   ]
  },
  {
   "cell_type": "code",
   "execution_count": 38,
   "metadata": {
    "collapsed": false
   },
   "outputs": [
    {
     "data": {
      "text/plain": [
       "LogisticRegression(C=0.017, class_weight=None, dual=False, fit_intercept=True,\n",
       "          intercept_scaling=1, max_iter=100, multi_class='ovr', n_jobs=1,\n",
       "          penalty='l1', random_state=142, solver='liblinear', tol=0.01,\n",
       "          verbose=0, warm_start=False)"
      ]
     },
     "execution_count": 38,
     "metadata": {},
     "output_type": "execute_result"
    }
   ],
   "source": [
    "model1.fit(X_train,y_train)"
   ]
  },
  {
   "cell_type": "code",
   "execution_count": 39,
   "metadata": {
    "collapsed": false
   },
   "outputs": [
    {
     "name": "stdout",
     "output_type": "stream",
     "text": [
      "0.714368836246\n"
     ]
    }
   ],
   "source": [
    "pred1 = model1.predict_proba(X_test)[:,1]\n",
    "print roc_auc_score(y_test, pred1)"
   ]
  },
  {
   "cell_type": "code",
   "execution_count": null,
   "metadata": {
    "collapsed": true
   },
   "outputs": [],
   "source": []
  },
  {
   "cell_type": "code",
   "execution_count": null,
   "metadata": {
    "collapsed": true
   },
   "outputs": [],
   "source": [
    "del(data)"
   ]
  },
  {
   "cell_type": "markdown",
   "metadata": {},
   "source": [
    "# 7. Gradient boosting"
   ]
  },
  {
   "cell_type": "code",
   "execution_count": null,
   "metadata": {
    "collapsed": true
   },
   "outputs": [],
   "source": [
    "from sklearn.ensemble import GradientBoostingClassifier\n",
    "from sklearn.metrics import log_loss\n",
    "from sklearn.metrics import roc_auc_score"
   ]
  },
  {
   "cell_type": "raw",
   "metadata": {},
   "source": [
    "rates = [0.3,]\n",
    "n=300\n",
    "loss_matrix=range(n)\n",
    "for rate in rates:\n",
    "    clf = GradientBoostingClassifier(n_estimators=n, verbose=True, random_state=241, learning_rate=rate)\n",
    "    clf.fit(X_train,y_train)\n",
    "    loss_test=[]\n",
    "    loss_train=[]\n",
    "    min_loss=1\n",
    "    i_min=0\n",
    "    for i, y_decision in enumerate(clf.staged_decision_function(X_test.toarray())):\n",
    "        y_pred = 1.0 / (1.0 + np.exp(-y_decision))\n",
    "        l = roc_auc_score(y_test, y_pred)\n",
    "        loss_test.append(l)\n",
    "        if l<min_loss and rate==0.2:\n",
    "            min_loss=l\n",
    "            i_min=i\n",
    "    for i, y_decision in enumerate(clf.staged_decision_function(X_train.toarray())):\n",
    "        y_predt = 1.0 / (1.0 + np.exp(-y_decision))\n",
    "        lt = roc_auc_score(y_train, y_predt)\n",
    "        loss_train.append(lt)\n",
    "\n",
    "    loss_matrix=np.vstack([loss_matrix,loss_test,loss_train])"
   ]
  },
  {
   "cell_type": "code",
   "execution_count": null,
   "metadata": {
    "collapsed": false
   },
   "outputs": [],
   "source": [
    "model2 = GradientBoostingClassifier(n_estimators=300, verbose=True, random_state=241, learning_rate=0.3)\n",
    "model2.fit(X_train,y_train)"
   ]
  },
  {
   "cell_type": "code",
   "execution_count": null,
   "metadata": {
    "collapsed": false
   },
   "outputs": [],
   "source": [
    "pred1 = model1.predict_proba(X_test.toarray())[:, 1]\n",
    "pred2 = model2.predict_proba(X_test.toarray())[:, 1]\n",
    "print roc_auc_score(y_test, pred1)\n",
    "print roc_auc_score(y_test, pred2)"
   ]
  },
  {
   "cell_type": "code",
   "execution_count": null,
   "metadata": {
    "collapsed": true
   },
   "outputs": [],
   "source": []
  }
 ],
 "metadata": {
  "kernelspec": {
   "display_name": "Python 2",
   "language": "python",
   "name": "python2"
  },
  "language_info": {
   "codemirror_mode": {
    "name": "ipython",
    "version": 2
   },
   "file_extension": ".py",
   "mimetype": "text/x-python",
   "name": "python",
   "nbconvert_exporter": "python",
   "pygments_lexer": "ipython2",
   "version": "2.7.10"
  }
 },
 "nbformat": 4,
 "nbformat_minor": 0
}
